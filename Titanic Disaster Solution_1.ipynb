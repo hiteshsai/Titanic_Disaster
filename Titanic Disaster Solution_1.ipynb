{
 "cells": [
  {
   "cell_type": "markdown",
   "metadata": {
    "deletable": true,
    "editable": true
   },
   "source": [
    "## Kaggle Competition | Titanic Machine Learning from Disaster"
   ]
  },
  {
   "cell_type": "markdown",
   "metadata": {
    "deletable": true,
    "editable": true
   },
   "source": [
    "## This is the starting description of the competition\n",
    "\n",
    "### Kaggle Competition | Titanic Machine Learning from Disaster\n",
    "\n",
    ">The sinking of the RMS Titanic is one of the most infamous shipwrecks in history.  On April 15, 1912, during her maiden voyage, the Titanic sank after colliding with an iceberg, killing 1502 out of 2224 passengers and crew.  This sensational tragedy shocked the international community and led to better safety regulations for ships.\n",
    "\n",
    ">One of the reasons that the shipwreck led to such loss of life was that there were not enough lifeboats for the passengers and crew.  Although there was some element of luck involved in surviving the sinking, some groups of people were more likely to survive than others, such as women, children, and the upper-class.\n",
    "\n",
    ">In this contest, we ask you to complete the analysis of what sorts of people were likely to survive.  In particular, we ask you to apply the tools of machine learning to predict which passengers survived the tragedy.\n",
    "\n",
    ">This Kaggle Getting Started Competition provides an ideal starting place for people who may not have a lot of experience in data science and machine learning.\"\n",
    "\n",
    "From the competition [homepage](http://www.kaggle.com/c/titanic-gettingStarted).\n"
   ]
  },
  {
   "cell_type": "code",
   "execution_count": 1,
   "metadata": {
    "collapsed": false,
    "deletable": true,
    "editable": true
   },
   "outputs": [],
   "source": [
    "#import library to read and plot the data\n",
    "\n",
    "import matplotlib.pyplot as plt\n",
    "%matplotlib inline\n",
    "import numpy as np\n",
    "import pandas as pd\n",
    "from pandas import Series, DataFrame\n",
    "from patsy import dmatrices,dmatrix \n",
    "import string\n",
    "from operator import itemgetter\n",
    "from sklearn.externals import joblib"
   ]
  },
  {
   "cell_type": "code",
   "execution_count": 2,
   "metadata": {
    "collapsed": false,
    "deletable": true,
    "editable": true
   },
   "outputs": [],
   "source": [
    "#read data using pandas library\n",
    "df=pd.read_csv('./dataset/train.csv') "
   ]
  },
  {
   "cell_type": "code",
   "execution_count": 3,
   "metadata": {
    "collapsed": false,
    "deletable": true,
    "editable": true
   },
   "outputs": [
    {
     "data": {
      "text/plain": [
       "Index(['PassengerId', 'Survived', 'Pclass', 'Name', 'Sex', 'Age', 'SibSp',\n",
       "       'Parch', 'Ticket', 'Fare', 'Cabin', 'Embarked'],\n",
       "      dtype='object')"
      ]
     },
     "execution_count": 3,
     "metadata": {},
     "output_type": "execute_result"
    }
   ],
   "source": [
    "#df.describe()\n",
    "df.columns"
   ]
  },
  {
   "cell_type": "markdown",
   "metadata": {
    "deletable": true,
    "editable": true
   },
   "source": [
    "Reading the info of the DataFrame, it is evident that the Cabin feature has a lot of null values. So, it will not be useful for our prediction. It is better to drop it down."
   ]
  },
  {
   "cell_type": "markdown",
   "metadata": {
    "deletable": true,
    "editable": true
   },
   "source": [
    "The Age feature has a great number of null values, but we suppose that the age of a passenger can be very relevant for his destiny in this disaster. 177 passengers have null Age values. To take advantages of a full set for this features, it will be useful to make imputation for the missing values.\n"
   ]
  },
  {
   "cell_type": "markdown",
   "metadata": {},
   "source": [
    "## Phase 1 - Visualising Data"
   ]
  },
  {
   "cell_type": "markdown",
   "metadata": {
    "deletable": true,
    "editable": true
   },
   "source": [
    "##### Now let’s have a deeper look at the data, trying to understand which could be the most important features for our model and let's take a quick look at our data graphically:"
   ]
  },
  {
   "cell_type": "code",
   "execution_count": 4,
   "metadata": {
    "collapsed": false,
    "deletable": true,
    "editable": true
   },
   "outputs": [
    {
     "data": {
      "image/png": "[encoded data removed]",
      "text/plain": [
       "<matplotlib.figure.Figure at 0x2caf2d4b048>"
      ]
     },
     "metadata": {},
     "output_type": "display_data"
    }
   ],
   "source": [
    "fig = plt.figure(figsize=(20,6))\n",
    "a=0.8\n",
    "ax1 = fig.add_subplot(3,2,1) \n",
    "female = df.Survived[df.Sex == 'female'][df['Age'].isnull()].value_counts()\n",
    "female.plot(kind='bar', label='female, age is null',color='red', alpha=a)\n",
    "ax1.set_xlim(-1, len(female))\n",
    "plt.legend(loc='best')\n",
    "ax2 = fig.add_subplot(3,2,2) \n",
    "male= df.Survived[df.Sex == 'male'][df['Age'].isnull()].value_counts()\n",
    "male.plot(kind='bar', label='male,age is null', alpha=a, color='green')\n",
    "ax2.set_xlim(-1, len(male))\n",
    "plt.legend(loc='best')\n",
    " \n",
    "ax3 = fig.add_subplot(3,2,3) \n",
    "df.Age[df.Sex == 'female'][df.Survived==1] .dropna().hist(bins=16, range=(0,80), alpha = .5)\n",
    "ax3.set_title('female age dist,survived')\n",
    " \n",
    "ax4 = fig.add_subplot(3,2,4)\n",
    "df.Age[df.Sex == 'male'][df.Survived==1] .dropna().hist(bins=16, range=(0,80), alpha = .5)\n",
    "ax4.set_title('male age dist,survived') \n",
    " \n",
    "#subplots_adjust(bottom=0.1, right=0.8, top=2)\n",
    "ax5 = fig.add_subplot(3,2,5) \n",
    "df.Age[df.Sex == 'female'][df.Survived==0] .dropna().hist(bins=16, range=(0,80), alpha = .5)\n",
    "ax5.set_title('female age dist,died')\n",
    " \n",
    "ax6 = fig.add_subplot(3,2,6) \n",
    "df.Age[df.Sex == 'male'][df.Survived==0] .dropna().hist(bins=16, range=(0,80), alpha = .5)\n",
    "ax6.set_title('male age dist,died')\n",
    "plt.show()\n",
    " \n",
    " "
   ]
  },
  {
   "cell_type": "code",
   "execution_count": 5,
   "metadata": {
    "collapsed": false,
    "deletable": true,
    "editable": true
   },
   "outputs": [
    {
     "data": {
      "text/plain": [
       "<matplotlib.legend.Legend at 0x2caf37f2b38>"
      ]
     },
     "execution_count": 5,
     "metadata": {},
     "output_type": "execute_result"
    },
    {
     "data": {
      "image/png": "[encoded data removed]",
      "text/plain": [
       "<matplotlib.figure.Figure at 0x2caf3b325c0>"
      ]
     },
     "metadata": {},
     "output_type": "display_data"
    }
   ],
   "source": [
    "fig = plt.figure(figsize=(18,12))\n",
    "a=0.8\n",
    " \n",
    "##gender and class\n",
    "ax3 = fig.add_subplot(545)\n",
    "female_highclass = df.Survived[df.Sex == 'female'][df.Pclass != 3].value_counts()\n",
    "female_highclass.plot(kind='bar', label='female highclass', color='pink', alpha=a)\n",
    " \n",
    "ax3.set_xlim(-1, len(female_highclass))\n",
    "plt.legend(loc='best')\n",
    "ax4 = fig.add_subplot(546)\n",
    "female_lowclass = df.Survived[df.Sex == 'female'][df.Pclass == 3].value_counts()\n",
    "female_lowclass.plot(kind='bar', label='female, low class', color='pink', alpha=a)\n",
    "ax4.set_xlim(-1, len(female_lowclass))\n",
    "plt.legend(loc='best')\n",
    "\n",
    "ax5 = fig.add_subplot(5,4,7) \n",
    "male_lowclass = df.Survived[df.Sex == 'male'][df.Pclass == 3].value_counts()\n",
    "male_lowclass.plot(kind='bar', label='male, low class',color='lightblue', alpha=a)\n",
    "ax5.set_xlim(-1, len(male_lowclass))\n",
    "plt.legend(loc='best')\n",
    "ax6 = fig.add_subplot(5,4,8) \n",
    "male_highclass = df.Survived[df.Sex == 'male'][df.Pclass != 3].value_counts()\n",
    "male_highclass.plot(kind='bar', label='male highclass', alpha=a, color='lightblue')\n",
    " \n",
    "ax6.set_xlim(-1, len(male_highclass))\n",
    "plt.legend(loc='best')\n",
    " \n",
    "##gender and age\n",
    "#female\n",
    "ax7 = fig.add_subplot(5,4,9)\n",
    "female_aged = df.Survived[df.Sex == 'female'][df.Age >= 60].value_counts()\n",
    "female_aged.plot(kind='bar', label='female, aged', color='pink', alpha=a)\n",
    " \n",
    "ax7.set_xlim(-1, len(female_aged))\n",
    "plt.legend(loc='best')\n",
    "ax8 = fig.add_subplot(5,4,10)\n",
    "female_child = df.Survived[df.Sex == 'female'][df.Age <= 10].value_counts()\n",
    "female_child.plot(kind='bar', label='female, children', color='pink', alpha=a)\n",
    " \n",
    "ax8.set_xlim(-1, len(female_child))\n",
    "plt.legend(loc='best')\n",
    "ax9 = fig.add_subplot(5,4,11)\n",
    "female_middleage = df.Survived[df.Sex == 'female'][df.Age>10][df.Age<=30].value_counts()\n",
    "female_middleage.plot(kind='bar', label='female, middle age(10-30)', color='pink', alpha=a)\n",
    " \n",
    "ax9.set_xlim(-1, len(female_middleage))\n",
    "plt.legend(loc='best')\n",
    "ax9 = fig.add_subplot(5,4,12)\n",
    "female_middleage = df.Survived[df.Sex == 'female'][df.Age>30][df.Age<60].value_counts()\n",
    "female_middleage.plot(kind='bar', label='female, middle age (30-60)', color='pink', alpha=a)\n",
    " \n",
    "ax9.set_xlim(-1, len(female_middleage))\n",
    "plt.legend(loc='best')\n",
    " \n",
    "#male\n",
    " \n",
    "ax10 = fig.add_subplot(5,4,13)\n",
    "male_aged = df.Survived[df.Sex == 'male'][df.Age >= 60].value_counts()\n",
    "male_aged.plot(kind='bar', label='male, aged', color='blue', alpha=a)\n",
    " \n",
    "ax10.set_xlim(-1, len(male_aged))\n",
    "plt.legend(loc='best')\n",
    "ax11 = fig.add_subplot(5,4,14)\n",
    "male_child = df.Survived[df.Sex == 'male'][df.Age <= 10].value_counts()\n",
    "male_child.plot(kind='bar', label='male, children', color='blue', alpha=a)\n",
    " \n",
    "ax11.set_xlim(-1, len(male_child))\n",
    "plt.legend(loc='best')\n",
    "ax12 = fig.add_subplot(5,4,15)\n",
    "male_middleage = df.Survived[df.Sex == 'male'][df.Age>10][df.Age<=30].value_counts()\n",
    "male_middleage.plot(kind='bar', label='male, middle age (10-30)', color='blue', alpha=a)\n",
    " \n",
    "ax12.set_xlim(-1, len(male_middleage))\n",
    "plt.legend(loc='best') \n",
    "ax12 = fig.add_subplot(5,4,16)\n",
    "male_middleage = df.Survived[df.Sex == 'male'][df.Age>30][df.Age<60].value_counts()\n",
    "male_middleage.plot(kind='bar', label='male, middle age (30-60)', color='blue', alpha=a)\n",
    " \n",
    "ax12.set_xlim(-1, len(male_middleage))\n",
    "plt.legend(loc='best') \n"
   ]
  },
  {
   "cell_type": "markdown",
   "metadata": {
    "deletable": true,
    "editable": true
   },
   "source": [
    "#### Interesting observation:  If you are female and aged you have Provability=1 to survive. If you are highclass, male and female, you have a high probability to survive. If you are children you have more or less the same surviving probability, gender independent."
   ]
  },
  {
   "cell_type": "code",
   "execution_count": 6,
   "metadata": {
    "collapsed": false,
    "deletable": true,
    "editable": true
   },
   "outputs": [
    {
     "data": {
      "text/plain": [
       "<matplotlib.legend.Legend at 0x2caf3f85940>"
      ]
     },
     "execution_count": 6,
     "metadata": {},
     "output_type": "execute_result"
    },
    {
     "data": {
      "image/png": "[encoded data removed]",
      "text/plain": [
       "<matplotlib.figure.Figure at 0x2caf3944358>"
      ]
     },
     "metadata": {},
     "output_type": "display_data"
    }
   ],
   "source": [
    "fig = plt.figure(figsize=(18,6))\n",
    "ax1 = fig.add_subplot(121)\n",
    "df.Survived[df.Pclass == 3].value_counts().plot(kind='bar',label='LowClass',color='red')\n",
    "ax1.set_xlim(-1, 2)\n",
    "plt.legend(loc='best')\n",
    "ax2 = fig.add_subplot(122) \n",
    "df.Survived[df.Pclass != 3].value_counts().plot(kind='bar',label='HighClass',color='green')\n",
    "ax2.set_xlim(-1, 2)\n",
    "plt.legend(loc='best')"
   ]
  },
  {
   "cell_type": "code",
   "execution_count": 7,
   "metadata": {
    "collapsed": false,
    "deletable": true,
    "editable": true
   },
   "outputs": [
    {
     "data": {
      "text/plain": [
       "<matplotlib.legend.Legend at 0x2caf4072588>"
      ]
     },
     "execution_count": 7,
     "metadata": {},
     "output_type": "execute_result"
    },
    {
     "data": {
      "image/png": "[encoded data removed]",
      "text/plain": [
       "<matplotlib.figure.Figure at 0x2caf3f9bd30>"
      ]
     },
     "metadata": {},
     "output_type": "display_data"
    }
   ],
   "source": [
    "fig = plt.figure(figsize=(18,6))\n",
    "ax1 = fig.add_subplot(121)\n",
    "df.Survived[df.Fare <=300].value_counts().plot(kind='bar',label='Fare <=300',color='red')\n",
    "ax1.set_xlim(-1, 2)\n",
    "plt.legend(loc='best')\n",
    "ax2 = fig.add_subplot(122) \n",
    "df.Survived[df.Fare >300].value_counts().plot(kind='bar',label='Fare>300',color='green')\n",
    "ax2.set_xlim(-1, 2)\n",
    "plt.legend(loc='best')"
   ]
  },
  {
   "cell_type": "markdown",
   "metadata": {
    "deletable": true,
    "editable": true
   },
   "source": [
    "##### So, as we could have imagined, being women, high-class is a good passport for surviving"
   ]
  },
  {
   "cell_type": "code",
   "execution_count": 8,
   "metadata": {
    "collapsed": false,
    "deletable": true,
    "editable": true
   },
   "outputs": [
    {
     "name": "stdout",
     "output_type": "stream",
     "text": [
      "Male: 1 122\n",
      "Female: 1 94\n",
      "Male: 2 108\n",
      "Female: 2 76\n",
      "Male: 3 347\n",
      "Female: 3 144\n"
     ]
    }
   ],
   "source": [
    "for i in range(1,4):\n",
    "    print(('Male:'), i, len(df[ (df.Sex == 'male') & (df.Pclass == i) ]))\n",
    "    print(('Female:'), i, len(df[ (df.Sex == 'female') & (df.Pclass == i) ]))"
   ]
  },
  {
   "cell_type": "markdown",
   "metadata": {
    "deletable": true,
    "editable": true
   },
   "source": [
    "##### Male, low class-->high dead probability"
   ]
  },
  {
   "cell_type": "markdown",
   "metadata": {
    "deletable": true,
    "editable": true
   },
   "source": [
    "## Data cleaning:"
   ]
  },
  {
   "cell_type": "markdown",
   "metadata": {
    "deletable": true,
    "editable": true
   },
   "source": [
    "Now we could clean, impute, encode the data to have a better model for our prediction. What it is important is the imputation of age. We realize now that if you are aged and female, you will survive. If you are high class and aged are more probabible to survive. We now are going to translate these conclusion in the model"
   ]
  },
  {
   "cell_type": "markdown",
   "metadata": {
    "deletable": true,
    "editable": true
   },
   "source": [
    "## Phase 2 - Training:"
   ]
  },
  {
   "cell_type": "code",
   "execution_count": 9,
   "metadata": {
    "collapsed": false,
    "deletable": true,
    "editable": true
   },
   "outputs": [],
   "source": [
    "#np.shape(y_test)"
   ]
  },
  {
   "cell_type": "code",
   "execution_count": 10,
   "metadata": {
    "collapsed": false,
    "deletable": true,
    "editable": true
   },
   "outputs": [
    {
     "name": "stdout",
     "output_type": "stream",
     "text": [
      "./dataset/train.csv 0\n"
     ]
    }
   ],
   "source": [
    "import numpy as np\n",
    "import pandas as pd\n",
    "from pandas import  DataFrame\n",
    "import string\n",
    "from operator import itemgetter\n",
    "#json library for settings file\n",
    "import json\n",
    "# import the machine learning library that holds the randomforest\n",
    "from sklearn.ensemble import RandomForestClassifier\n",
    "from sklearn.model_selection import cross_val_score,GridSearchCV\n",
    "from sklearn.pipeline import Pipeline\n",
    "from sklearn.model_selection import train_test_split,StratifiedShuffleSplit,StratifiedKFold\n",
    "from sklearn import preprocessing\n",
    "from sklearn.metrics import classification_report\n",
    "\n",
    "train_file='./dataset/train.csv'\n",
    "test_file='./dataset/test.csv'\n",
    "seed= 0\n",
    "\n",
    "print (train_file,seed)"
   ]
  },
  {
   "cell_type": "code",
   "execution_count": 11,
   "metadata": {
    "collapsed": false,
    "deletable": true,
    "editable": true
   },
   "outputs": [],
   "source": [
    "#Utility function to report best scores\n",
    "def report(grid_scores, n_top=3):\n",
    "    top_scores = sorted(grid_scores, key=itemgetter(1), reverse=True)[:n_top]\n",
    "    for i, score in enumerate(top_scores):\n",
    "        print(\"Model with rank: {0}\".format(i + 1))\n",
    "        print(\"Mean validation score: {0:.3f} (std: {1:.3f})\".format(\n",
    "              score.mean_validation_score,\n",
    "              np.std(score.cv_validation_scores)))\n",
    "        print(\"Parameters: {0}\".format(score.parameters))\n",
    "        print(\"\")\n",
    "\n",
    "#Utility function to clean and munge data\n",
    "def substrings_in_string(big_string, substrings):\n",
    "    for substring in substrings:\n",
    "        if str.find(big_string, substring) != -1:\n",
    "            return substring\n",
    "    print (big_string)\n",
    "    return np.nan\n",
    "\n",
    "le = preprocessing.LabelEncoder()\n",
    "enc= preprocessing.OneHotEncoder()\n",
    "\n",
    "def clean_and_munge_data(df):\n",
    "    #Setting unknown values to NaN\n",
    "    df.Fare = df.Fare.map(lambda x: np.nan if x==0 else x)\n",
    "    #Creating a title column from name\n",
    "    title_list=['Mrs', 'Mr', 'Master', 'Miss', 'Major', 'Rev',\n",
    "                'Dr', 'Ms', 'Mlle','Col', 'Capt', 'Mme', 'Countess',\n",
    "                'Don', 'Jonkheer']\n",
    "    df['Title']=df['Name'].map(lambda x: substrings_in_string(x, title_list))\n",
    "    \n",
    "    \n",
    "    #Replacing all titles with mr, mrs, miss, master for our ease\n",
    "    def replace_titles(x):\n",
    "        title=x['Title']\n",
    "        if title in ['Mr','Don', 'Major', 'Capt', 'Jonkheer', 'Rev', 'Col']:\n",
    "            return 'Mr'\n",
    "        elif title in ['Master']:\n",
    "            return 'Master'\n",
    "        elif title in ['Countess', 'Mme','Mrs']:\n",
    "            return 'Mrs'\n",
    "        elif title in ['Mlle', 'Ms','Miss']:\n",
    "            return 'Miss'\n",
    "        elif title =='Dr':\n",
    "            if x['Sex']=='Male':\n",
    "                return 'Mr'\n",
    "            else:\n",
    "                return 'Mrs'\n",
    "        elif title =='':\n",
    "            if x['Sex']=='Male':\n",
    "                return 'Master'\n",
    "            else:\n",
    "                return 'Miss'\n",
    "        else:\n",
    "            return title\n",
    "\n",
    "    df['Title']=df.apply(replace_titles, axis=1)\n",
    "\n",
    "    #Creating new family_size column\n",
    "    df['Family_Size']=df['SibSp']+df['Parch']\n",
    "    df['Family']=df['SibSp']*df['Parch']\n",
    "\n",
    "    #Imputing NaN values\n",
    "    df.loc[ (df.Fare.isnull())&(df.Pclass==1),'Fare'] =np.median(df[df['Pclass'] == 1]['Fare'].dropna())\n",
    "    df.loc[ (df.Fare.isnull())&(df.Pclass==2),'Fare'] =np.median( df[df['Pclass'] == 2]['Fare'].dropna())\n",
    "    df.loc[ (df.Fare.isnull())&(df.Pclass==3),'Fare'] = np.median(df[df['Pclass'] == 3]['Fare'].dropna())\n",
    "\n",
    "    df['Gender'] = df['Sex'].map( {'female': 0, 'male': 1} ).astype(int)\n",
    "    \n",
    "    #Filling missing age values with average of that particular category\n",
    "    df['AgeFill']=df['Age']\n",
    "    mean_ages = np.zeros(4)\n",
    "    mean_ages[0]=np.average(df[df['Title'] == 'Miss']['Age'].dropna())\n",
    "    mean_ages[1]=np.average(df[df['Title'] == 'Mrs']['Age'].dropna())\n",
    "    mean_ages[2]=np.average(df[df['Title'] == 'Mr']['Age'].dropna())\n",
    "    mean_ages[3]=np.average(df[df['Title'] == 'Master']['Age'].dropna())\n",
    "    df.loc[ (df.Age.isnull()) & (df.Title == 'Miss') ,'AgeFill'] = mean_ages[0]\n",
    "    df.loc[ (df.Age.isnull()) & (df.Title == 'Mrs') ,'AgeFill'] = mean_ages[1]\n",
    "    df.loc[ (df.Age.isnull()) & (df.Title == 'Mr') ,'AgeFill'] = mean_ages[2]\n",
    "    df.loc[ (df.Age.isnull()) & (df.Title == 'Master') ,'AgeFill'] = mean_ages[3]\n",
    "    \n",
    "    df['AgeCat']=df['AgeFill']\n",
    "    df.loc[ (df.AgeFill<=10) ,'AgeCat'] = 'child'\n",
    "    df.loc[ (df.AgeFill>60),'AgeCat'] = 'aged'\n",
    "    df.loc[ (df.AgeFill>10) & (df.AgeFill <=30) ,'AgeCat'] = 'adult'\n",
    "    df.loc[ (df.AgeFill>30) & (df.AgeFill <=60) ,'AgeCat'] = 'senior'\n",
    "\n",
    "    df.Embarked = df.Embarked.fillna('S')\n",
    "    print(\"Considering special case for cabins\")\n",
    "\n",
    "    #Special case for cabins as NaN may be signal\n",
    "    df.loc[ df.Cabin.isnull()==True,'Cabin'] = 0.5\n",
    "    df.loc[ df.Cabin.isnull()==False,'Cabin'] = 1.5\n",
    "   \n",
    "    #Fare per person\n",
    "    df['Fare_Per_Person']=df['Fare']/(df['Family_Size']+1)\n",
    "\n",
    "    #Age times class\n",
    "    df['AgeClass']=df['AgeFill']*df['Pclass']\n",
    "    df['ClassFare']=df['Pclass']*df['Fare_Per_Person']\n",
    "\n",
    "\n",
    "    df['HighLow']=df['Pclass']\n",
    "    df.loc[ (df.Fare_Per_Person<8) ,'HighLow'] = 'Low'\n",
    "    df.loc[ (df.Fare_Per_Person>=8) ,'HighLow'] = 'High'\n",
    "\n",
    "\n",
    "    le.fit(df['Sex'] )\n",
    "    x_sex=le.transform(df['Sex'])\n",
    "    df['Sex']=x_sex.astype(np.float)\n",
    "\n",
    "    le.fit( df['Ticket'])\n",
    "    x_Ticket=le.transform( df['Ticket'])\n",
    "    df['Ticket']=x_Ticket.astype(np.float)\n",
    "\n",
    "    le.fit(df['Title'])\n",
    "    x_title=le.transform(df['Title'])\n",
    "    df['Title'] =x_title.astype(np.float)\n",
    "\n",
    "    le.fit(df['HighLow'])\n",
    "    x_hl=le.transform(df['HighLow'])\n",
    "    df['HighLow']=x_hl.astype(np.float)\n",
    "\n",
    "\n",
    "    le.fit(df['AgeCat'])\n",
    "    x_age=le.transform(df['AgeCat'])\n",
    "    df['AgeCat'] =x_age.astype(np.float)\n",
    "\n",
    "    le.fit(df['Embarked'])\n",
    "    x_emb=le.transform(df['Embarked'])\n",
    "    df['Embarked']=x_emb.astype(np.float)\n",
    "    \n",
    "    #Remove Name,Age and PassengerId\n",
    "    df = df.drop(['PassengerId','Name','Age','Cabin'], axis=1) \n",
    "\n",
    "    return df\n"
   ]
  },
  {
   "cell_type": "code",
   "execution_count": 12,
   "metadata": {
    "collapsed": false,
    "scrolled": true
   },
   "outputs": [
    {
     "name": "stdout",
     "output_type": "stream",
     "text": [
      "Considering special case for cabins\n",
      "(891,) (891, 12)\n",
      "Fitting 10 folds for each of 1 candidates, totalling 10 fits\n",
      "[CV]  ................................................................\n",
      "[CV] ................................. , score=0.860140, total=   0.5s\n",
      "[CV]  ................................................................\n"
     ]
    },
    {
     "name": "stderr",
     "output_type": "stream",
     "text": [
      "[Parallel(n_jobs=1)]: Done   1 out of   1 | elapsed:    0.5s remaining:    0.0s\n"
     ]
    },
    {
     "name": "stdout",
     "output_type": "stream",
     "text": [
      "[CV] ................................. , score=0.832168, total=   0.5s\n",
      "[CV]  ................................................................\n"
     ]
    },
    {
     "name": "stderr",
     "output_type": "stream",
     "text": [
      "[Parallel(n_jobs=1)]: Done   2 out of   2 | elapsed:    1.2s remaining:    0.0s\n"
     ]
    },
    {
     "name": "stdout",
     "output_type": "stream",
     "text": [
      "[CV] ................................. , score=0.818182, total=   0.5s\n",
      "[CV]  ................................................................\n",
      "[CV] ................................. , score=0.832168, total=   0.5s\n",
      "[CV]  ................................................................\n",
      "[CV] ................................. , score=0.811189, total=   0.5s\n",
      "[CV]  ................................................................\n",
      "[CV] ................................. , score=0.874126, total=   0.5s\n",
      "[CV]  ................................................................\n",
      "[CV] ................................. , score=0.811189, total=   0.5s\n",
      "[CV]  ................................................................\n",
      "[CV] ................................. , score=0.783217, total=   0.5s\n",
      "[CV]  ................................................................\n",
      "[CV] ................................. , score=0.825175, total=   0.5s\n",
      "[CV]  ................................................................\n",
      "[CV] ................................. , score=0.839161, total=   0.6s\n"
     ]
    },
    {
     "name": "stderr",
     "output_type": "stream",
     "text": [
      "[Parallel(n_jobs=1)]: Done  10 out of  10 | elapsed:    6.4s finished\n"
     ]
    }
   ],
   "source": [
    "#Read data\n",
    "train_df=pd.read_csv(train_file)\n",
    "#Clean data\n",
    "df=clean_and_munge_data(train_df)\n",
    "\n",
    "#Applying formula\n",
    " \n",
    "formula_ml= 'Survived~Pclass+C(Title)+Sex+C(AgeCat)+Fare_Per_Person+Fare+Family_Size' \n",
    "\n",
    "y_train, x_train = dmatrices(formula_ml, data=df, return_type='dataframe')\n",
    "y_train = np.asarray(y_train).ravel()\n",
    "\n",
    "print (y_train.shape,x_train.shape)\n",
    "\n",
    "#Select a train and test set\n",
    "X_train, X_test, Y_train, Y_test = train_test_split(x_train, y_train, test_size=0.2,random_state=seed)\n",
    "\n",
    "#Instantiate and fit our model\n",
    "clf= RandomForestClassifier(n_estimators=500, criterion='entropy', max_depth=5, min_samples_split=2,\n",
    "  min_samples_leaf=1, max_features='auto', bootstrap=False, oob_score=False, n_jobs=1, random_state=seed,\n",
    "  verbose=0)\n",
    "\n",
    "np.shape(X_train)\n",
    "np.shape(y_train)\n",
    "\n",
    "#Compute grid search to find best paramters for pipeline\n",
    "param_grid = dict()\n",
    "#Classify pipeline\n",
    "#pipeline=Pipeline([ ('clf',clf) ])\n",
    "\n",
    "grid_search = GridSearchCV(clf, param_grid=param_grid, verbose=3,scoring='accuracy',\\\n",
    "cv=StratifiedShuffleSplit(test_size=0.2, train_size=None ,\\\n",
    "random_state=seed)).fit(X_train, Y_train)"
   ]
  },
  {
   "cell_type": "code",
   "execution_count": 13,
   "metadata": {
    "collapsed": false,
    "deletable": true,
    "editable": true
   },
   "outputs": [
    {
     "name": "stdout",
     "output_type": "stream",
     "text": [
      "Best score: 0.829\n",
      "RandomForestClassifier(bootstrap=False, class_weight=None,\n",
      "            criterion='entropy', max_depth=5, max_features='auto',\n",
      "            max_leaf_nodes=None, min_impurity_split=1e-07,\n",
      "            min_samples_leaf=1, min_samples_split=2,\n",
      "            min_weight_fraction_leaf=0.0, n_estimators=500, n_jobs=1,\n",
      "            oob_score=False, random_state=0, verbose=0, warm_start=False)\n",
      "Model with rank: 1\n",
      "Mean validation score: 0.829 (std: 0.024)\n",
      "Parameters: {}\n",
      "\n",
      "-Grid search end-\n",
      "On Train set: \n"
     ]
    },
    {
     "name": "stderr",
     "output_type": "stream",
     "text": [
      "c:\\python36\\lib\\site-packages\\sklearn\\model_selection\\_search.py:667: DeprecationWarning: The grid_scores_ attribute was deprecated in version 0.18 in favor of the more elaborate cv_results_ attribute. The grid_scores_ attribute will not be available from 0.20\n",
      "  DeprecationWarning)\n"
     ]
    },
    {
     "name": "stdout",
     "output_type": "stream",
     "text": [
      "0.824915824916 [ 0.81144781  0.83164983  0.83164983]\n",
      "On Test set: \n",
      "0.782203389831 [ 0.76666667  0.78333333  0.79661017]\n",
      "Classification Report: \n",
      "Train Data\n",
      "             precision    recall  f1-score   support\n",
      "\n",
      "        0.0       0.86      0.90      0.88       439\n",
      "        1.0       0.83      0.75      0.79       273\n",
      "\n",
      "avg / total       0.85      0.85      0.85       712\n",
      "\n",
      "Test data\n",
      "             precision    recall  f1-score   support\n",
      "\n",
      "        0.0       0.86      0.86      0.86       110\n",
      "        1.0       0.78      0.77      0.77        69\n",
      "\n",
      "avg / total       0.83      0.83      0.83       179\n",
      "\n"
     ]
    }
   ],
   "source": [
    "#Score the results-1\n",
    "print(\"Best score: %0.3f\" % grid_search.best_score_)\n",
    "print(grid_search.best_estimator_)\n",
    "\n",
    "report(grid_search.grid_scores_)\n",
    " \n",
    "print('-Grid search end-')\n",
    "\n",
    "print ('On Train set: ')\n",
    "scores = cross_val_score(grid_search.best_estimator_, x_train, y_train,cv=3,scoring='accuracy')\n",
    "print (scores.mean(),scores)\n",
    "\n",
    "print ('On Test set: ')\n",
    "scores = cross_val_score(grid_search.best_estimator_, X_test, Y_test,cv=3,scoring='accuracy')\n",
    "print (scores.mean(),scores)\n",
    "\n",
    "# Score the results-2\n",
    "print(\"Classification Report: \")\n",
    "print(\"Train Data\")\n",
    "print(classification_report(Y_train, grid_search.best_estimator_.predict(X_train) ))\n",
    "print('Test data')\n",
    "print(classification_report(Y_test, grid_search.best_estimator_.predict(X_test) ))\n",
    "\n",
    "#serialize training\n",
    "model_file='./model-rf.pkl'"
   ]
  },
  {
   "cell_type": "markdown",
   "metadata": {
    "deletable": true,
    "editable": true
   },
   "source": [
    "## Phase 3 - Prediction:"
   ]
  },
  {
   "cell_type": "code",
   "execution_count": 14,
   "metadata": {
    "collapsed": false,
    "deletable": true,
    "editable": true
   },
   "outputs": [
    {
     "name": "stdout",
     "output_type": "stream",
     "text": [
      "./dataset/test.csv 1\n",
      "Considering special case for cabins\n",
      "(418, 18)\n",
      "(418,) (418, 12)\n",
      "(418,)\n"
     ]
    }
   ],
   "source": [
    "test_file='./dataset/test.csv'\n",
    "seed= 1\n",
    "\n",
    "print (test_file, seed)\n",
    "#Rread test data\n",
    "\n",
    "testdf=pd.read_csv(test_file)\n",
    "\n",
    "ID=testdf['PassengerId']\n",
    "#Clean data\n",
    "df_test=clean_and_munge_data(testdf)\n",
    "df_test['Survived'] =  [0 for x in range(len(df_test))]\n",
    "\n",
    "print (df_test.shape)\n",
    " \n",
    "formula_ml='Survived~Pclass+C(Title)+Sex+C(AgeCat)+Fare_Per_Person+Fare+Family_Size' \n",
    "\n",
    "y_p,x_test = dmatrices(formula_ml, data=df_test, return_type='dataframe')\n",
    "y_p = np.asarray(y_p).ravel()\n",
    "print  (y_p.shape,x_test.shape)\n",
    "#Serialize training\n",
    "model_file='./model/model-rf.pkl'\n",
    "clf = joblib.load(model_file)\n",
    "#Estimate prediction on test data set\n",
    "y_p=clf.predict(x_test).astype(int)\n",
    "print (y_p.shape)\n",
    "\n",
    "outfile='./prediction/prediction-BS.csv'\n",
    "dfjo = DataFrame(dict(Survived=y_p,PassengerId=ID), columns=['Survived','PassengerId'])\n",
    "dfjo.to_csv(outfile,index_label=None,index=False)"
   ]
  },
  {
   "cell_type": "markdown",
   "metadata": {
    "deletable": true,
    "editable": true
   },
   "source": [
    "### Few considerations"
   ]
  },
  {
   "cell_type": "markdown",
   "metadata": {
    "deletable": true,
    "editable": true
   },
   "source": [
    ">Be aware in selecting a seed in order to reproduce your results! \n",
    "\n",
    ">Playing a bit with paramaters in the gridsearch might get better results.\n",
    "\n",
    "With the above configuration I was able to reach 0.81340 accuracy."
   ]
  }
 ],
 "metadata": {
  "kernelspec": {
   "display_name": "Python 3",
   "language": "python",
   "name": "python3"
  },
  "language_info": {
   "codemirror_mode": {
    "name": "ipython",
    "version": 3
   },
   "file_extension": ".py",
   "mimetype": "text/x-python",
   "name": "python",
   "nbconvert_exporter": "python",
   "pygments_lexer": "ipython3",
   "version": "3.6.0"
  }
 },
 "nbformat": 4,
 "nbformat_minor": 0
}
